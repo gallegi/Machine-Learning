{
 "cells": [
  {
   "cell_type": "code",
   "execution_count": 1,
   "metadata": {
    "colab": {
     "autoexec": {
      "startup": false,
      "wait_interval": 0
     }
    },
    "colab_type": "code",
    "id": "RlCX26sOd5Dl"
   },
   "outputs": [
    {
     "name": "stderr",
     "output_type": "stream",
     "text": [
      "/home/namntse05438/anaconda3/lib/python3.6/site-packages/sklearn/cross_validation.py:41: DeprecationWarning: This module was deprecated in version 0.18 in favor of the model_selection module into which all the refactored classes and functions are moved. Also note that the interface of the new CV iterators are different from that of this module. This module will be removed in 0.20.\n",
      "  \"This module will be removed in 0.20.\", DeprecationWarning)\n",
      "/home/namntse05438/anaconda3/lib/python3.6/site-packages/sklearn/grid_search.py:42: DeprecationWarning: This module was deprecated in version 0.18 in favor of the model_selection module into which all the refactored classes and functions are moved. This module will be removed in 0.20.\n",
      "  DeprecationWarning)\n"
     ]
    }
   ],
   "source": [
    "import numpy as np\n",
    "import matplotlib.pyplot as plt\n",
    "import matplotlib.image as mpimg\n",
    "import cv2\n",
    "import glob\n",
    "import random\n",
    "\n",
    "from __future__ import print_function\n",
    "\n",
    "from time import time\n",
    "import logging\n",
    "\n",
    "from sklearn.cross_validation import train_test_split\n",
    "from sklearn.datasets import fetch_lfw_people\n",
    "from sklearn.grid_search import GridSearchCV\n",
    "from sklearn.metrics import classification_report\n",
    "from sklearn.metrics import confusion_matrix\n",
    "from sklearn.decomposition import RandomizedPCA\n",
    "from sklearn.svm import SVC\n",
    "from sklearn.utils import shuffle\n",
    "from sklearn.externals import joblib"
   ]
  },
  {
   "cell_type": "code",
   "execution_count": 2,
   "metadata": {
    "colab": {
     "autoexec": {
      "startup": false,
      "wait_interval": 0
     }
    },
    "colab_type": "code",
    "id": "tRS2wl06mJg5"
   },
   "outputs": [],
   "source": [
    "W = 28\n",
    "H = 28\n",
    "\n",
    "def preprocessing_img(img):\n",
    "  ret = cv2.resize(img,(W,H))\n",
    "  return ret"
   ]
  },
  {
   "cell_type": "code",
   "execution_count": 3,
   "metadata": {
    "colab": {
     "autoexec": {
      "startup": false,
      "wait_interval": 0
     },
     "base_uri": "https://localhost:8080/",
     "height": 34
    },
    "colab_type": "code",
    "executionInfo": {
     "elapsed": 810,
     "status": "ok",
     "timestamp": 1529471603540,
     "user": {
      "displayName": "Nguyen Nam",
      "photoUrl": "https://lh3.googleusercontent.com/a/default-user=s128",
      "userId": "100974802585415237805"
     },
     "user_tz": -420
    },
    "id": "QC-IIP8XflSS",
    "outputId": "895bd6df-aeb6-4562-a1a1-cd2fb96ef2a0"
   },
   "outputs": [
    {
     "name": "stdout",
     "output_type": "stream",
     "text": [
      "[0 0 0 ..., 2 2 2]\n"
     ]
    }
   ],
   "source": [
    "#read data\n",
    "\n",
    "X = []\n",
    "y = []\n",
    "classes = ['00017','00033', '00034']\n",
    "\n",
    "for i in range(len(classes)):\n",
    "  _class = classes[i]\n",
    "  path = '/home/namntse05438/datasets/GTSRB/mydataval/'+_class+'/'\n",
    "  image_names = glob.glob(path+'*.ppm')\n",
    "  \n",
    "  for img_name in image_names:\n",
    "    image = cv2.imread(img_name,0)\n",
    "    image = preprocessing_img(image)\n",
    "    image = np.reshape(image, W*H)\n",
    "    X.append(image)\n",
    "    y.append(i)\n",
    "    \n",
    "    \n",
    "    \n",
    "X = np.array(X).astype('float32')\n",
    "y = np.array(y)\n",
    "#print(y)"
   ]
  },
  {
   "cell_type": "code",
   "execution_count": 4,
   "metadata": {
    "colab": {
     "autoexec": {
      "startup": false,
      "wait_interval": 0
     },
     "base_uri": "https://localhost:8080/",
     "height": 364
    },
    "colab_type": "code",
    "executionInfo": {
     "elapsed": 705,
     "status": "ok",
     "timestamp": 1529471607259,
     "user": {
      "displayName": "Nguyen Nam",
      "photoUrl": "https://lh3.googleusercontent.com/a/default-user=s128",
      "userId": "100974802585415237805"
     },
     "user_tz": -420
    },
    "id": "1Qkjyj9Stzya",
    "outputId": "49e276f7-7296-4ea0-edc3-7d07ed9d91c4"
   },
   "outputs": [
    {
     "data": {
      "text/plain": [
       "<matplotlib.image.AxesImage at 0x7f278645c320>"
      ]
     },
     "execution_count": 4,
     "metadata": {},
     "output_type": "execute_result"
    },
    {
     "data": {
      "image/png": "[encoded data removed]",
      "text/plain": [
       "<matplotlib.figure.Figure at 0x7f27866c4e80>"
      ]
     },
     "metadata": {},
     "output_type": "display_data"
    }
   ],
   "source": [
    "a = np.reshape(X[1,:],(W,H))\n",
    "plt.imshow(a, cmap='gray')"
   ]
  },
  {
   "cell_type": "code",
   "execution_count": 5,
   "metadata": {
    "colab": {
     "autoexec": {
      "startup": false,
      "wait_interval": 0
     },
     "base_uri": "https://localhost:8080/",
     "height": 34
    },
    "colab_type": "code",
    "executionInfo": {
     "elapsed": 667,
     "status": "ok",
     "timestamp": 1529471609621,
     "user": {
      "displayName": "Nguyen Nam",
      "photoUrl": "https://lh3.googleusercontent.com/a/default-user=s128",
      "userId": "100974802585415237805"
     },
     "user_tz": -420
    },
    "id": "LXHKpucDstaa",
    "outputId": "61bc8d36-4e6e-4b23-e08b-151ac3c55d9e"
   },
   "outputs": [
    {
     "name": "stdout",
     "output_type": "stream",
     "text": [
      "689\n"
     ]
    }
   ],
   "source": [
    "#shuffle data\n",
    "X,y = shuffle(X, y)\n",
    "\n",
    "# split into a training and testing set\n",
    "X_train, X_test, y_train, y_test = train_test_split(\n",
    "    X, y, test_size=0.25)\n"
   ]
  },
  {
   "cell_type": "code",
   "execution_count": 6,
   "metadata": {
    "colab": {
     "autoexec": {
      "startup": false,
      "wait_interval": 0
     },
     "base_uri": "https://localhost:8080/",
     "height": 134
    },
    "colab_type": "code",
    "executionInfo": {
     "elapsed": 101843,
     "status": "ok",
     "timestamp": 1529471719924,
     "user": {
      "displayName": "Nguyen Nam",
      "photoUrl": "https://lh3.googleusercontent.com/a/default-user=s128",
      "userId": "100974802585415237805"
     },
     "user_tz": -420
    },
    "id": "Z7fcOANesjUq",
    "outputId": "c357dca3-0840-4c7f-ef76-6d53af6343b7"
   },
   "outputs": [
    {
     "name": "stdout",
     "output_type": "stream",
     "text": [
      "Fitting the classifier to the training set\n",
      "done in 74.233s\n",
      "Best estimator found by grid search:\n",
      "SVC(C=1000.0, cache_size=200, class_weight='balanced', coef0=0.0,\n",
      "  decision_function_shape='ovr', degree=3, gamma=0.0001, kernel='poly',\n",
      "  max_iter=-1, probability=True, random_state=None, shrinking=True,\n",
      "  tol=0.001, verbose=False)\n"
     ]
    }
   ],
   "source": [
    "###############################################################################\n",
    "# Train a SVM classification model\n",
    "\n",
    "print(\"Fitting the classifier to the training set\")\n",
    "t0 = time()\n",
    "param_grid = {'C': [1e3, 5e3, 1e4, 5e4, 1e5],\n",
    "              'gamma': [0.0001, 0.0005, 0.001, 0.005, 0.01, 0.1], }\n",
    "clf = GridSearchCV(SVC(kernel='poly', class_weight='balanced', probability=True), param_grid)\n",
    "#print(X_train.shape)\n",
    "clf = clf.fit(X_train, y_train)\n",
    "print(\"done in %0.3fs\" % (time() - t0))\n",
    "print(\"Best estimator found by grid search:\")\n",
    "print(clf.best_estimator_)"
   ]
  },
  {
   "cell_type": "code",
   "execution_count": 7,
   "metadata": {
    "colab": {
     "autoexec": {
      "startup": false,
      "wait_interval": 0
     },
     "base_uri": "https://localhost:8080/",
     "height": 34
    },
    "colab_type": "code",
    "executionInfo": {
     "elapsed": 713,
     "status": "ok",
     "timestamp": 1529471915014,
     "user": {
      "displayName": "Nguyen Nam",
      "photoUrl": "https://lh3.googleusercontent.com/a/default-user=s128",
      "userId": "100974802585415237805"
     },
     "user_tz": -420
    },
    "id": "iaL4Z5pexzsj",
    "outputId": "ca93bbb4-e75b-4090-9e47-bc92dc0b34be"
   },
   "outputs": [
    {
     "name": "stdout",
     "output_type": "stream",
     "text": [
      "0.9381009615384616\n"
     ]
    }
   ],
   "source": [
    "print(clf.best_score_)"
   ]
  },
  {
   "cell_type": "code",
   "execution_count": 8,
   "metadata": {
    "colab": {
     "autoexec": {
      "startup": false,
      "wait_interval": 0
     },
     "base_uri": "https://localhost:8080/",
     "height": 235
    },
    "colab_type": "code",
    "executionInfo": {
     "elapsed": 718,
     "status": "ok",
     "timestamp": 1529471919815,
     "user": {
      "displayName": "Nguyen Nam",
      "photoUrl": "https://lh3.googleusercontent.com/a/default-user=s128",
      "userId": "100974802585415237805"
     },
     "user_tz": -420
    },
    "id": "hGec1EUiwbY1",
    "outputId": "90af6cdc-9a97-4737-d01d-2f56eae0b4ed"
   },
   "outputs": [
    {
     "name": "stdout",
     "output_type": "stream",
     "text": [
      "Predicting traffic sign on the test set\n",
      "done in 0.072s\n",
      "             precision    recall  f1-score   support\n",
      "\n",
      "      00017       0.99      0.95      0.97       273\n",
      "      00033       0.98      0.94      0.96       177\n",
      "      00034       0.86      1.00      0.93       105\n",
      "\n",
      "avg / total       0.96      0.96      0.96       555\n",
      "\n",
      "[[259   4  10]\n",
      " [  3 167   7]\n",
      " [  0   0 105]]\n"
     ]
    }
   ],
   "source": [
    "###############################################################################\n",
    "# Quantitative evaluation of the model quality on the test set\n",
    "\n",
    "print(\"Predicting traffic sign on the validation set\")\n",
    "t0 = time()\n",
    "y_pred = clf.predict(X_test)\n",
    "print(\"done in %0.3fs\" % (time() - t0))\n",
    "\n",
    "print(classification_report(y_test, y_pred, target_names=classes))\n",
    "print(confusion_matrix(y_test, y_pred, labels=range(len(classes))))"
   ]
  },
  {
   "cell_type": "code",
   "execution_count": 9,
   "metadata": {
    "colab": {
     "autoexec": {
      "startup": false,
      "wait_interval": 0
     },
     "base_uri": "https://localhost:8080/",
     "height": 364
    },
    "colab_type": "code",
    "executionInfo": {
     "elapsed": 717,
     "status": "ok",
     "timestamp": 1529471924708,
     "user": {
      "displayName": "Nguyen Nam",
      "photoUrl": "https://lh3.googleusercontent.com/a/default-user=s128",
      "userId": "100974802585415237805"
     },
     "user_tz": -420
    },
    "id": "bxMZlMsxyPAT",
    "outputId": "10352f9c-eaed-43f2-eea1-4d07f06f8db3"
   },
   "outputs": [
    {
     "name": "stdout",
     "output_type": "stream",
     "text": [
      "[[ 0.63761377  0.2809038   0.08148244]]\n"
     ]
    },
    {
     "data": {
      "image/png": "[encoded data removed]",
      "text/plain": [
       "<matplotlib.figure.Figure at 0x7f278640ae10>"
      ]
     },
     "metadata": {},
     "output_type": "display_data"
    }
   ],
   "source": [
    "#predict random image from validation set\n",
    "idx = int(random.random()*len(X_test))\n",
    "sample = X_test[idx,:]\n",
    "\n",
    "test_img = np.reshape(sample,(W,H))\n",
    "plt.imshow(test_img, cmap = 'gray')\n",
    "\n",
    "test_img = np.reshape(sample,(1,-1))\n",
    "y_pred = clf.predict_proba(test_img)\n",
    "print(y_pred)"
   ]
  },
  {
   "cell_type": "code",
   "execution_count": 10,
   "metadata": {
    "colab": {
     "autoexec": {
      "startup": false,
      "wait_interval": 0
     },
     "base_uri": "https://localhost:8080/",
     "height": 34
    },
    "colab_type": "code",
    "executionInfo": {
     "elapsed": 703,
     "status": "ok",
     "timestamp": 1529471936919,
     "user": {
      "displayName": "Nguyen Nam",
      "photoUrl": "https://lh3.googleusercontent.com/a/default-user=s128",
      "userId": "100974802585415237805"
     },
     "user_tz": -420
    },
    "id": "zXbVyHtuiPK6",
    "outputId": "1bd46f96-93a1-49e3-f463-3404aab574ec"
   },
   "outputs": [
    {
     "name": "stdout",
     "output_type": "stream",
     "text": [
      "2219\n"
     ]
    }
   ],
   "source": [
    "#testing phase\n",
    "\n",
    "_X = []\n",
    "_y = []\n",
    "\n",
    "for i in range(len(classes)):\n",
    "  _class = classes[i]\n",
    "  path = '/home/namntse05438/datasets/GTSRB/mydataval/'+_class+'/'\n",
    "  image_names = glob.glob(path+'*.ppm')\n",
    "  \n",
    "  for img_name in image_names:\n",
    "    image = cv2.imread(img_name,0)\n",
    "    image = preprocessing_img(image)\n",
    "    image = np.reshape(image, W*H)\n",
    "    _X.append(image)\n",
    "    _y.append(i)\n",
    "    \n",
    "    \n",
    "    \n",
    "_X = np.array(_X).astype('float32')\n",
    "_y = np.array(_y)\n",
    "print(len(_y))"
   ]
  },
  {
   "cell_type": "code",
   "execution_count": 11,
   "metadata": {
    "colab": {
     "autoexec": {
      "startup": false,
      "wait_interval": 0
     },
     "base_uri": "https://localhost:8080/",
     "height": 235
    },
    "colab_type": "code",
    "executionInfo": {
     "elapsed": 946,
     "status": "ok",
     "timestamp": 1529477828564,
     "user": {
      "displayName": "Nguyen Nam",
      "photoUrl": "https://lh3.googleusercontent.com/a/default-user=s128",
      "userId": "100974802585415237805"
     },
     "user_tz": -420
    },
    "id": "Xw1adLS4ksHI",
    "outputId": "6483fbf8-f055-4d79-f396-2757e0aa7e4c"
   },
   "outputs": [
    {
     "name": "stdout",
     "output_type": "stream",
     "text": [
      "Predicting tf_sign on the test set\n",
      "done in 0.249s\n",
      "             precision    recall  f1-score   support\n",
      "\n",
      "      00017       1.00      0.99      0.99      1110\n",
      "      00033       0.99      0.99      0.99       689\n",
      "      00034       0.96      1.00      0.98       420\n",
      "\n",
      "avg / total       0.99      0.99      0.99      2219\n",
      "\n",
      "[[1096    4   10]\n",
      " [   3  679    7]\n",
      " [   0    0  420]]\n"
     ]
    }
   ],
   "source": [
    "#predict on test set\n",
    "print(\"Predicting tf_sign on the test set\")\n",
    "t0 = time()\n",
    "_y_pred = clf.predict(_X)\n",
    "print(\"done in %0.3fs\" % (time() - t0))\n",
    "\n",
    "print(classification_report(_y, _y_pred, target_names=classes))\n",
    "print(confusion_matrix(_y, _y_pred, labels=range(len(classes))))"
   ]
  },
  {
   "cell_type": "code",
   "execution_count": 181,
   "metadata": {
    "colab": {
     "autoexec": {
      "startup": false,
      "wait_interval": 0
     },
     "base_uri": "https://localhost:8080/",
     "height": 34
    },
    "colab_type": "code",
    "executionInfo": {
     "elapsed": 733,
     "status": "ok",
     "timestamp": 1529477777692,
     "user": {
      "displayName": "Nguyen Nam",
      "photoUrl": "https://lh3.googleusercontent.com/a/default-user=s128",
      "userId": "100974802585415237805"
     },
     "user_tz": -420
    },
    "id": "T8rEQt4z-hho",
    "outputId": "e9017ef6-a39a-4b98-ce36-fa6d48c0afcc"
   },
   "outputs": [
    {
     "data": {
      "text/plain": [
       "['tf_sign.pkl']"
      ]
     },
     "execution_count": 181,
     "metadata": {
      "tags": []
     },
     "output_type": "execute_result"
    }
   ],
   "source": [
    "#save model to .pkl file\n",
    "joblib.dump(clf, 'tf_sign.pkl')"
   ]
  }
 ],
 "metadata": {
  "colab": {
   "collapsed_sections": [],
   "default_view": {},
   "name": "svm_traffic_sign_recognition.ipynb",
   "provenance": [],
   "version": "0.3.2",
   "views": {}
  },
  "kernelspec": {
   "display_name": "Python 3",
   "language": "python",
   "name": "python3"
  },
  "language_info": {
   "codemirror_mode": {
    "name": "ipython",
    "version": 3
   },
   "file_extension": ".py",
   "mimetype": "text/x-python",
   "name": "python",
   "nbconvert_exporter": "python",
   "pygments_lexer": "ipython3",
   "version": "3.6.3"
  }
 },
 "nbformat": 4,
 "nbformat_minor": 1
}
