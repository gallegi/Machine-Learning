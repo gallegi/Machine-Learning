{
 "cells": [
  {
   "cell_type": "code",
   "execution_count": 11,
   "metadata": {},
   "outputs": [],
   "source": [
    "import numpy as np\n",
    "import tensorflow as tf\n",
    "from tensorflow.keras import applications\n",
    "from tensorflow.keras import Sequential\n",
    "from tensorflow.keras.utils import to_categorical\n",
    "import tensorflow.keras as keras\n",
    "import cv2\n",
    "import glob\n",
    "\n",
    "from sklearn.model_selection import train_test_split"
   ]
  },
  {
   "cell_type": "code",
   "execution_count": 2,
   "metadata": {},
   "outputs": [],
   "source": [
    "W = H = 224\n",
    "\n",
    "def preprocessing(img):\n",
    "    resized = cv2.resize(img,(W,H))\n",
    "    return resized"
   ]
  },
  {
   "cell_type": "code",
   "execution_count": 3,
   "metadata": {},
   "outputs": [],
   "source": [
    "classes = [\"daisy\", \"dandelion\", \"roses\", \"sunflowers\", \"tulips\"]\n",
    "n_classes = len(classes)   \n",
    "data_folder = \"/home/namntse05438/flower_photos/\"\n",
    "\n",
    "# load data set\n",
    "data = []\n",
    "target = []\n",
    "\n",
    "for i, cls in enumerate(classes):\n",
    "    path = data_folder+cls+\"/*.jpg\"\n",
    "    image_paths = glob.glob(path)\n",
    "    for img_path in image_paths:\n",
    "        img = cv2.imread(img_path)\n",
    "        processed_img = preprocessing(img)\n",
    "        data.append(processed_img)\n",
    "        target.append(i)\n",
    "\n",
    "data = np.array(data)\n",
    "target = np.array(target)"
   ]
  },
  {
   "cell_type": "code",
   "execution_count": 4,
   "metadata": {},
   "outputs": [
    {
     "data": {
      "text/plain": [
       "(3670, 224, 224, 3)"
      ]
     },
     "execution_count": 4,
     "metadata": {},
     "output_type": "execute_result"
    }
   ],
   "source": [
    "data.shape"
   ]
  },
  {
   "cell_type": "code",
   "execution_count": 5,
   "metadata": {},
   "outputs": [],
   "source": [
    "# load pretrained feature module\n",
    "feature_module = applications.vgg16.VGG16(weights='imagenet', include_top=False, input_shape = (W,H,3))"
   ]
  },
  {
   "cell_type": "code",
   "execution_count": 12,
   "metadata": {},
   "outputs": [],
   "source": [
    "# convert target to one hot\n",
    "oh_target = to_categorical(y=target, num_classes=n_classes)"
   ]
  },
  {
   "cell_type": "code",
   "execution_count": 13,
   "metadata": {},
   "outputs": [],
   "source": [
    "X_train, X_test, y_train, y_test = train_test_split(data, oh_target, test_size=0.3, random_state=123)"
   ]
  },
  {
   "cell_type": "code",
   "execution_count": 18,
   "metadata": {},
   "outputs": [],
   "source": [
    "#X_train, X_test, y_train, y_test = train_test_split(processed_data, target,test_size=0.3, random_state=123)\n",
    "feature_train = feature_module.predict(X_train)\n",
    "feature_test = feature_module.predict(X_test)"
   ]
  },
  {
   "cell_type": "code",
   "execution_count": 33,
   "metadata": {},
   "outputs": [
    {
     "name": "stdout",
     "output_type": "stream",
     "text": [
      "<tensorflow.python.keras.engine.sequential.Sequential object at 0x7f10984a5320>\n"
     ]
    }
   ],
   "source": [
    "model = Sequential([\n",
    "    keras.layers.Flatten(input_shape=(7,7,512)),\n",
    "    keras.layers.Dense( units=1000, activation=tf.nn.relu),\n",
    "    keras.layers.Dense(units=5, activation='softmax')\n",
    "])\n",
    "\n",
    "print(model)"
   ]
  },
  {
   "cell_type": "code",
   "execution_count": 34,
   "metadata": {},
   "outputs": [],
   "source": [
    "model.compile(optimizer=tf.train.AdamOptimizer(),\n",
    "             loss = 'categorical_crossentropy',\n",
    "             metrics=['accuracy'])"
   ]
  },
  {
   "cell_type": "code",
   "execution_count": 41,
   "metadata": {},
   "outputs": [
    {
     "name": "stdout",
     "output_type": "stream",
     "text": [
      "Train on 2569 samples, validate on 1101 samples\n",
      "Epoch 1/10\n",
      "2569/2569 [==============================] - 1s 560us/step - loss: 4.4902 - acc: 0.7205 - val_loss: 5.5255 - val_acc: 0.6567\n",
      "Epoch 2/10\n",
      "2569/2569 [==============================] - 1s 565us/step - loss: 6.6040 - acc: 0.5897 - val_loss: 6.1131 - val_acc: 0.6194\n",
      "Epoch 3/10\n",
      "2569/2569 [==============================] - 1s 560us/step - loss: 5.5372 - acc: 0.6559 - val_loss: 5.4898 - val_acc: 0.6594\n",
      "Epoch 4/10\n",
      "2569/2569 [==============================] - 1s 560us/step - loss: 5.7396 - acc: 0.6434 - val_loss: 8.1149 - val_acc: 0.4959\n",
      "Epoch 5/10\n",
      "2569/2569 [==============================] - 1s 560us/step - loss: 7.5745 - acc: 0.5294 - val_loss: 8.0810 - val_acc: 0.4986\n",
      "Epoch 6/10\n",
      "2569/2569 [==============================] - 1s 572us/step - loss: 8.0936 - acc: 0.4979 - val_loss: 8.2185 - val_acc: 0.4896\n",
      "Epoch 7/10\n",
      "2569/2569 [==============================] - 1s 566us/step - loss: 7.8582 - acc: 0.5119 - val_loss: 9.6035 - val_acc: 0.4042\n",
      "Epoch 8/10\n",
      "2569/2569 [==============================] - 1s 566us/step - loss: 7.9084 - acc: 0.5088 - val_loss: 5.7019 - val_acc: 0.6458\n",
      "Epoch 9/10\n",
      "2569/2569 [==============================] - 1s 564us/step - loss: 6.2375 - acc: 0.6127 - val_loss: 6.1217 - val_acc: 0.6194\n",
      "Epoch 10/10\n",
      "2569/2569 [==============================] - 2s 590us/step - loss: 5.8600 - acc: 0.6364 - val_loss: 6.3462 - val_acc: 0.6058\n"
     ]
    },
    {
     "data": {
      "text/plain": [
       "<tensorflow.python.keras.callbacks.History at 0x7f0fb05d3dd8>"
      ]
     },
     "execution_count": 41,
     "metadata": {},
     "output_type": "execute_result"
    }
   ],
   "source": [
    "model.fit(feature_train, y_train, epochs=10, validation_data=(feature_test, y_test), verbose=1)"
   ]
  },
  {
   "cell_type": "code",
   "execution_count": null,
   "metadata": {},
   "outputs": [],
   "source": []
  }
 ],
 "metadata": {
  "kernelspec": {
   "display_name": "Python 3",
   "language": "python",
   "name": "python3"
  },
  "language_info": {
   "codemirror_mode": {
    "name": "ipython",
    "version": 3
   },
   "file_extension": ".py",
   "mimetype": "text/x-python",
   "name": "python",
   "nbconvert_exporter": "python",
   "pygments_lexer": "ipython3",
   "version": "3.6.7"
  }
 },
 "nbformat": 4,
 "nbformat_minor": 2
}
