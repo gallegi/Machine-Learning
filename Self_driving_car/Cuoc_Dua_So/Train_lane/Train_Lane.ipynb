{
 "cells": [
  {
   "cell_type": "code",
   "execution_count": 1,
   "metadata": {},
   "outputs": [
    {
     "name": "stderr",
     "output_type": "stream",
     "text": [
      "Using TensorFlow backend.\n"
     ]
    }
   ],
   "source": [
    "import numpy as np\n",
    "import matplotlib.pyplot as plt\n",
    "\n",
    "import cv2\n",
    "import glob\n",
    "import pandas as pd \n",
    "import seaborn as sns\n",
    "\n",
    "import tensorflow as tf\n",
    "\n",
    "from keras.models import Sequential\n",
    "from keras.layers import Dense, Conv2D, Flatten, MaxPool2D, Lambda, Dropout\n",
    "\n",
    "import tensorflow as tf"
   ]
  },
  {
   "cell_type": "code",
   "execution_count": 2,
   "metadata": {},
   "outputs": [],
   "source": [
    "image_names = []\n",
    "steers = []\n",
    "speeds = []\n",
    "\n",
    "image_data = []\n",
    "target = None\n"
   ]
  },
  {
   "cell_type": "code",
   "execution_count": 3,
   "metadata": {},
   "outputs": [
    {
     "name": "stdout",
     "output_type": "stream",
     "text": [
      "Total read images:  5557\n"
     ]
    },
    {
     "data": {
      "text/html": [
       "<div>\n",
       "<style scoped>\n",
       "    .dataframe tbody tr th:only-of-type {\n",
       "        vertical-align: middle;\n",
       "    }\n",
       "\n",
       "    .dataframe tbody tr th {\n",
       "        vertical-align: top;\n",
       "    }\n",
       "\n",
       "    .dataframe thead th {\n",
       "        text-align: right;\n",
       "    }\n",
       "</style>\n",
       "<table border=\"1\" class=\"dataframe\">\n",
       "  <thead>\n",
       "    <tr style=\"text-align: right;\">\n",
       "      <th></th>\n",
       "      <th>name</th>\n",
       "      <th>path</th>\n",
       "      <th>speed</th>\n",
       "      <th>steer</th>\n",
       "    </tr>\n",
       "  </thead>\n",
       "  <tbody>\n",
       "    <tr>\n",
       "      <th>0</th>\n",
       "      <td>1546014233.95_50_0.00165315992043</td>\n",
       "      <td>/home/namntse05438/Cuoc_Dua_So/Ros_python/imag...</td>\n",
       "      <td>50</td>\n",
       "      <td>0.00165315992043</td>\n",
       "    </tr>\n",
       "    <tr>\n",
       "      <th>1</th>\n",
       "      <td>1546014103.21_50_0.0150572402819</td>\n",
       "      <td>/home/namntse05438/Cuoc_Dua_So/Ros_python/imag...</td>\n",
       "      <td>50</td>\n",
       "      <td>0.0150572402819</td>\n",
       "    </tr>\n",
       "    <tr>\n",
       "      <th>2</th>\n",
       "      <td>1546014058.02_50_0.112754050913</td>\n",
       "      <td>/home/namntse05438/Cuoc_Dua_So/Ros_python/imag...</td>\n",
       "      <td>50</td>\n",
       "      <td>0.112754050913</td>\n",
       "    </tr>\n",
       "    <tr>\n",
       "      <th>3</th>\n",
       "      <td>1546014231.18_50_-2.02498203262e-10</td>\n",
       "      <td>/home/namntse05438/Cuoc_Dua_So/Ros_python/imag...</td>\n",
       "      <td>50</td>\n",
       "      <td>-2.02498203262e-10</td>\n",
       "    </tr>\n",
       "    <tr>\n",
       "      <th>4</th>\n",
       "      <td>1546014078.86_50_0.0200879615841</td>\n",
       "      <td>/home/namntse05438/Cuoc_Dua_So/Ros_python/imag...</td>\n",
       "      <td>50</td>\n",
       "      <td>0.0200879615841</td>\n",
       "    </tr>\n",
       "  </tbody>\n",
       "</table>\n",
       "</div>"
      ],
      "text/plain": [
       "                                  name  \\\n",
       "0    1546014233.95_50_0.00165315992043   \n",
       "1     1546014103.21_50_0.0150572402819   \n",
       "2      1546014058.02_50_0.112754050913   \n",
       "3  1546014231.18_50_-2.02498203262e-10   \n",
       "4     1546014078.86_50_0.0200879615841   \n",
       "\n",
       "                                                path speed               steer  \n",
       "0  /home/namntse05438/Cuoc_Dua_So/Ros_python/imag...    50    0.00165315992043  \n",
       "1  /home/namntse05438/Cuoc_Dua_So/Ros_python/imag...    50     0.0150572402819  \n",
       "2  /home/namntse05438/Cuoc_Dua_So/Ros_python/imag...    50      0.112754050913  \n",
       "3  /home/namntse05438/Cuoc_Dua_So/Ros_python/imag...    50  -2.02498203262e-10  \n",
       "4  /home/namntse05438/Cuoc_Dua_So/Ros_python/imag...    50     0.0200879615841  "
      ]
     },
     "execution_count": 3,
     "metadata": {},
     "output_type": "execute_result"
    }
   ],
   "source": [
    "# load all image name\n",
    "image_paths = glob.glob(\"/home/namntse05438/Cuoc_Dua_So/Ros_python/image_data/*.jpg\")\n",
    "print(\"Total read images: \", len(image_paths))\n",
    "for path in image_paths:\n",
    "    image_name = path.split(\"/\")[-1]\n",
    "    # print(image_name)\n",
    "    # delete \".jpg\" extension\n",
    "    image_name = image_name[:-4]\n",
    "    # print(image_name)\n",
    "    image_names.append(image_name)\n",
    "    raw = image_name.split(\"_\")\n",
    "    speed = raw[1]\n",
    "    steer = raw[2]\n",
    "    steers.append(steer)\n",
    "    speeds.append(speed)\n",
    "    # print(speed)\n",
    "    # print(steer)\n",
    "    # exit()\n",
    "    \n",
    "# make dataframe containing info of all images (name, speed, steer)\n",
    "data = pd.DataFrame({\"name\":image_names,\"path\":image_paths, \"speed\":speeds, \"steer\":steers})\n",
    "data.head()"
   ]
  },
  {
   "cell_type": "code",
   "execution_count": 4,
   "metadata": {},
   "outputs": [],
   "source": [
    "data['steer'] = data['steer'].astype(float)"
   ]
  },
  {
   "cell_type": "code",
   "execution_count": 5,
   "metadata": {},
   "outputs": [
    {
     "name": "stderr",
     "output_type": "stream",
     "text": [
      "/home/namntse05438/anaconda3/envs/tensorflow/lib/python3.6/site-packages/scipy/stats/stats.py:1713: FutureWarning: Using a non-tuple sequence for multidimensional indexing is deprecated; use `arr[tuple(seq)]` instead of `arr[seq]`. In the future this will be interpreted as an array index, `arr[np.array(seq)]`, which will result either in an error or a different result.\n",
      "  return np.add.reduce(sorted[indexer] * weights, axis=axis) / sumval\n"
     ]
    },
    {
     "data": {
      "text/plain": [
       "<matplotlib.axes._subplots.AxesSubplot at 0x7f06aa506e48>"
      ]
     },
     "execution_count": 5,
     "metadata": {},
     "output_type": "execute_result"
    },
    {
     "data": {
      "image/png": "[encoded data removed]",
      "text/plain": [
       "<Figure size 432x288 with 1 Axes>"
      ]
     },
     "metadata": {
      "needs_background": "light"
     },
     "output_type": "display_data"
    }
   ],
   "source": [
    "# data analysis\n",
    "sns.distplot(data['steer'])"
   ]
  },
  {
   "cell_type": "code",
   "execution_count": 15,
   "metadata": {},
   "outputs": [],
   "source": [
    "# split data into mid and left_right by a threshold\n",
    "# mid is usually larger because when driving on the road, most of the time we go straight\n",
    "thresh = 1"
   ]
  },
  {
   "cell_type": "code",
   "execution_count": 16,
   "metadata": {},
   "outputs": [
    {
     "name": "stdout",
     "output_type": "stream",
     "text": [
      "size of mid data:  3783\n"
     ]
    }
   ],
   "source": [
    "mid = data[(data['steer']<thresh) & (data['steer']>-thresh)]\n",
    "print(\"size of mid data: \", len(mid))"
   ]
  },
  {
   "cell_type": "code",
   "execution_count": 19,
   "metadata": {},
   "outputs": [
    {
     "name": "stdout",
     "output_type": "stream",
     "text": [
      "length of mid_sample:  3548\n"
     ]
    }
   ],
   "source": [
    "# we sample mid data to be about twice as much as left_right\n",
    "# Because for some next steps, we will augment left_right by vertically flipping the image and target\n",
    "mid_sample = mid.sample(len(left_right)*2)\n",
    "print(\"length of mid_sample: \", len(mid_sample))"
   ]
  },
  {
   "cell_type": "code",
   "execution_count": 17,
   "metadata": {},
   "outputs": [
    {
     "name": "stdout",
     "output_type": "stream",
     "text": [
      "size of left right data:  1774\n"
     ]
    }
   ],
   "source": [
    "left_right = data[(data['steer']>=thresh) | (data['steer']<=-thresh)]\n",
    "print(\"size of left right data: \", len(left_right))"
   ]
  },
  {
   "cell_type": "code",
   "execution_count": 21,
   "metadata": {},
   "outputs": [
    {
     "name": "stdout",
     "output_type": "stream",
     "text": [
      "Shape of mid_image_data:  (3548, 240, 320, 3)\n",
      "Shape of mid_target:  (3548, 1)\n"
     ]
    }
   ],
   "source": [
    "# read mid_image_data and mid_target\n",
    "mid_image_data = []\n",
    "mid_target = []\n",
    "\n",
    "for path in mid_sample['path']:\n",
    "    img = cv2.imread(path)\n",
    "    mid_image_data.append(img)\n",
    "\n",
    "mid_image_data = np.array(mid_image_data)\n",
    "mid_target = np.array(mid_sample['steer']).reshape(-1,1)\n",
    "\n",
    "print(\"Shape of mid_image_data: \", mid_image_data.shape)\n",
    "print(\"Shape of mid_target: \", mid_target.shape)"
   ]
  },
  {
   "cell_type": "code",
   "execution_count": 22,
   "metadata": {},
   "outputs": [],
   "source": [
    "def flip_image(img):\n",
    "    flipped = cv2.flip(img, 1)\n",
    "    return flipped\n"
   ]
  },
  {
   "cell_type": "code",
   "execution_count": 25,
   "metadata": {},
   "outputs": [
    {
     "name": "stdout",
     "output_type": "stream",
     "text": [
      "Shape of left_right_image_data:  (3548, 240, 320, 3)\n",
      "Shape of left_right_target:  (3548, 1)\n"
     ]
    }
   ],
   "source": [
    "# read left_right image and perform flip to augment data\n",
    "left_right_image_data = []\n",
    "left_right_target = []\n",
    "\n",
    "for index, row in left_right.iterrows():\n",
    "    img = cv2.imread(row['path'])\n",
    "    tgt = row['steer']\n",
    "    left_right_image_data.append(img)\n",
    "    left_right_image_data.append(flip_image(img))\n",
    "    left_right_target.append(tgt)\n",
    "    left_right_target.append(-tgt)\n",
    "    \n",
    "left_right_image_data = np.array(left_right_image_data)\n",
    "left_right_target = np.array(left_right_target).reshape(-1,1)\n",
    "\n",
    "print(\"Shape of left_right_image_data: \", left_right_image_data.shape)\n",
    "print(\"Shape of left_right_target: \", left_right_target.shape)"
   ]
  },
  {
   "cell_type": "code",
   "execution_count": 26,
   "metadata": {},
   "outputs": [
    {
     "name": "stdout",
     "output_type": "stream",
     "text": [
      "Shape of image_data:  (7096, 240, 320, 3)\n",
      "Shape of target:  (7096, 1)\n"
     ]
    }
   ],
   "source": [
    "image_data = np.vstack([mid_image_data, left_right_image_data])\n",
    "target = np.vstack([mid_target, left_right_target])\n",
    "\n",
    "print(\"Shape of image_data: \", image_data.shape)\n",
    "print(\"Shape of target: \", target.shape)"
   ]
  },
  {
   "cell_type": "code",
   "execution_count": 27,
   "metadata": {},
   "outputs": [
    {
     "name": "stderr",
     "output_type": "stream",
     "text": [
      "/home/namntse05438/anaconda3/envs/tensorflow/lib/python3.6/site-packages/scipy/stats/stats.py:1713: FutureWarning: Using a non-tuple sequence for multidimensional indexing is deprecated; use `arr[tuple(seq)]` instead of `arr[seq]`. In the future this will be interpreted as an array index, `arr[np.array(seq)]`, which will result either in an error or a different result.\n",
      "  return np.add.reduce(sorted[indexer] * weights, axis=axis) / sumval\n"
     ]
    },
    {
     "data": {
      "text/plain": [
       "<matplotlib.axes._subplots.AxesSubplot at 0x7f06257f3828>"
      ]
     },
     "execution_count": 27,
     "metadata": {},
     "output_type": "execute_result"
    },
    {
     "data": {
      "image/png": "[encoded data removed]",
      "text/plain": [
       "<Figure size 432x288 with 1 Axes>"
      ]
     },
     "metadata": {
      "needs_background": "light"
     },
     "output_type": "display_data"
    }
   ],
   "source": [
    "sns.distplot(target)"
   ]
  },
  {
   "cell_type": "code",
   "execution_count": 28,
   "metadata": {},
   "outputs": [
    {
     "name": "stderr",
     "output_type": "stream",
     "text": [
      "/home/namntse05438/.local/lib/python3.6/site-packages/ipykernel_launcher.py:5: UserWarning: Update your `Conv2D` call to the Keras 2 API: `Conv2D(24, (5, 5), activation=\"elu\", strides=(2, 2))`\n",
      "  \"\"\"\n",
      "/home/namntse05438/.local/lib/python3.6/site-packages/ipykernel_launcher.py:6: UserWarning: Update your `Conv2D` call to the Keras 2 API: `Conv2D(36, (5, 5), activation=\"elu\", strides=(2, 2))`\n",
      "  \n",
      "/home/namntse05438/.local/lib/python3.6/site-packages/ipykernel_launcher.py:7: UserWarning: Update your `Conv2D` call to the Keras 2 API: `Conv2D(48, (5, 5), activation=\"elu\", strides=(2, 2))`\n",
      "  import sys\n",
      "/home/namntse05438/.local/lib/python3.6/site-packages/ipykernel_launcher.py:8: UserWarning: Update your `Conv2D` call to the Keras 2 API: `Conv2D(64, (3, 3), activation=\"elu\")`\n",
      "  \n",
      "/home/namntse05438/.local/lib/python3.6/site-packages/ipykernel_launcher.py:9: UserWarning: Update your `Conv2D` call to the Keras 2 API: `Conv2D(64, (3, 3), activation=\"elu\")`\n",
      "  if __name__ == '__main__':\n"
     ]
    },
    {
     "name": "stdout",
     "output_type": "stream",
     "text": [
      "_________________________________________________________________\n",
      "Layer (type)                 Output Shape              Param #   \n",
      "=================================================================\n",
      "lambda_1 (Lambda)            (None, 240, 320, 3)       0         \n",
      "_________________________________________________________________\n",
      "conv2d_1 (Conv2D)            (None, 118, 158, 24)      1824      \n",
      "_________________________________________________________________\n",
      "conv2d_2 (Conv2D)            (None, 57, 77, 36)        21636     \n",
      "_________________________________________________________________\n",
      "conv2d_3 (Conv2D)            (None, 27, 37, 48)        43248     \n",
      "_________________________________________________________________\n",
      "conv2d_4 (Conv2D)            (None, 25, 35, 64)        27712     \n",
      "_________________________________________________________________\n",
      "conv2d_5 (Conv2D)            (None, 23, 33, 64)        36928     \n",
      "_________________________________________________________________\n",
      "dropout_1 (Dropout)          (None, 23, 33, 64)        0         \n",
      "_________________________________________________________________\n",
      "flatten_1 (Flatten)          (None, 48576)             0         \n",
      "_________________________________________________________________\n",
      "dense_1 (Dense)              (None, 100)               4857700   \n",
      "_________________________________________________________________\n",
      "dense_2 (Dense)              (None, 50)                5050      \n",
      "_________________________________________________________________\n",
      "dense_3 (Dense)              (None, 10)                510       \n",
      "_________________________________________________________________\n",
      "dense_4 (Dense)              (None, 1)                 11        \n",
      "=================================================================\n",
      "Total params: 4,994,619\n",
      "Trainable params: 4,994,619\n",
      "Non-trainable params: 0\n",
      "_________________________________________________________________\n"
     ]
    }
   ],
   "source": [
    "# define model\n",
    "#model.reset_states()\n",
    "model = Sequential()\n",
    "model.add(Lambda(lambda x: x/127.5-1.0, input_shape=(240, 320,3)))\n",
    "model.add(Conv2D(24, 5, 5, activation='elu', subsample=(2, 2)))\n",
    "model.add(Conv2D(36, 5, 5, activation='elu', subsample=(2, 2)))\n",
    "model.add(Conv2D(48, 5, 5, activation='elu', subsample=(2, 2)))\n",
    "model.add(Conv2D(64, 3, 3, activation='elu'))\n",
    "model.add(Conv2D(64, 3, 3, activation='elu'))\n",
    "model.add(Dropout(0.3))\n",
    "model.add(Flatten())\n",
    "model.add(Dense(100, activation='elu'))\n",
    "model.add(Dense(50, activation='elu'))\n",
    "model.add(Dense(10, activation='elu'))\n",
    "model.add(Dense(1))\n",
    "model.summary()\n",
    "\n",
    "model.compile(loss='mean_squared_error', optimizer=tf.train.AdamOptimizer())\n"
   ]
  },
  {
   "cell_type": "code",
   "execution_count": null,
   "metadata": {
    "scrolled": false
   },
   "outputs": [
    {
     "name": "stdout",
     "output_type": "stream",
     "text": [
      "Epoch 1/10\n",
      "7096/7096 [==============================] - 17s 2ms/step - loss: 2.1586\n",
      "Epoch 2/10\n",
      "7096/7096 [==============================] - 18s 2ms/step - loss: 2.0859\n",
      "Epoch 3/10\n",
      "7096/7096 [==============================] - 18s 2ms/step - loss: 1.9591\n",
      "Epoch 4/10\n",
      "7096/7096 [==============================] - 18s 2ms/step - loss: 2.0193\n",
      "Epoch 5/10\n",
      "7096/7096 [==============================] - 18s 2ms/step - loss: 2.0250\n",
      "Epoch 6/10\n",
      "7096/7096 [==============================] - 18s 2ms/step - loss: 2.0212\n",
      "Epoch 7/10\n",
      "7096/7096 [==============================] - 18s 2ms/step - loss: 1.8853\n",
      "Epoch 8/10\n",
      "2944/7096 [===========>..................] - ETA: 10s - loss: 1.8581"
     ]
    }
   ],
   "source": [
    "model.fit(image_data, target, epochs=10)"
   ]
  },
  {
   "cell_type": "code",
   "execution_count": 102,
   "metadata": {},
   "outputs": [
    {
     "name": "stdout",
     "output_type": "stream",
     "text": [
      "(240, 320, 3)\n"
     ]
    }
   ],
   "source": [
    "idx = int(len(image_data)*np.random.random())\n",
    "test1 = image_data[idx]\n",
    "print(test1.shape)\n",
    "cv2.imshow(\"frame\", test1.astype(int))\n",
    "cv2.waitKey(0)\n",
    "cv2.destroyAllWindows()"
   ]
  },
  {
   "cell_type": "code",
   "execution_count": 105,
   "metadata": {},
   "outputs": [
    {
     "data": {
      "text/plain": [
       "array([[8.822712]], dtype=float32)"
      ]
     },
     "execution_count": 105,
     "metadata": {},
     "output_type": "execute_result"
    }
   ],
   "source": [
    "model.predict(test1.reshape(1,240,320,3))"
   ]
  },
  {
   "cell_type": "code",
   "execution_count": 111,
   "metadata": {},
   "outputs": [],
   "source": [
    "model.save_weights(\"my_model_3.h5\")"
   ]
  },
  {
   "cell_type": "code",
   "execution_count": null,
   "metadata": {},
   "outputs": [],
   "source": []
  }
 ],
 "metadata": {
  "kernelspec": {
   "display_name": "Python 3",
   "language": "python",
   "name": "python3"
  },
  "language_info": {
   "codemirror_mode": {
    "name": "ipython",
    "version": 3
   },
   "file_extension": ".py",
   "mimetype": "text/x-python",
   "name": "python",
   "nbconvert_exporter": "python",
   "pygments_lexer": "ipython3",
   "version": "3.6.7"
  }
 },
 "nbformat": 4,
 "nbformat_minor": 2
}
