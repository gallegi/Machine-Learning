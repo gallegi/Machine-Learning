{
 "cells": [
  {
   "cell_type": "code",
   "execution_count": 52,
   "metadata": {},
   "outputs": [],
   "source": [
    "from pyspark.sql import SparkSession\n",
    "import pyspark.sql.functions as fn\n",
    "\n",
    "from pyspark.ml.feature import VectorAssembler\n",
    "from pyspark.ml import Pipeline\n",
    "from pyspark.ml.clustering import KMeans\n",
    "\n",
    "import numpy as np\n",
    "import matplotlib.pyplot as plt\n",
    "import math"
   ]
  },
  {
   "cell_type": "code",
   "execution_count": 2,
   "metadata": {},
   "outputs": [],
   "source": [
    "spark = SparkSession.builder.appName('Telecom explore').getOrCreate()"
   ]
  },
  {
   "cell_type": "code",
   "execution_count": 3,
   "metadata": {},
   "outputs": [],
   "source": [
    "# read data from csv file\n",
    "telecom = spark.read.csv('/home/namntse05438/datasets/telecom/sms-call-internet-mi-2013-11-07.csv', header=True)"
   ]
  },
  {
   "cell_type": "code",
   "execution_count": 4,
   "metadata": {},
   "outputs": [
    {
     "name": "stdout",
     "output_type": "stream",
     "text": [
      "+-------------------+------+-----------+------+------+------+-------+--------+\n",
      "|           datetime|CellID|countrycode| smsin|smsout|callin|callout|internet|\n",
      "+-------------------+------+-----------+------+------+------+-------+--------+\n",
      "|2013-11-07 00:00:00|     1|          0|0.2463|  null|  null|   null|    null|\n",
      "|2013-11-07 00:00:00|     1|         39|1.4627| 1.661|0.2999| 0.1644| 55.8591|\n",
      "|2013-11-07 00:00:00|     2|          0|0.2467|  null|  null|   null|    null|\n",
      "|2013-11-07 00:00:00|     2|         39|1.4768|1.6736|0.3033| 0.1648| 56.0243|\n",
      "|2013-11-07 00:00:00|     3|          0|0.2471|  null|  null|   null|    null|\n",
      "+-------------------+------+-----------+------+------+------+-------+--------+\n",
      "only showing top 5 rows\n",
      "\n"
     ]
    }
   ],
   "source": [
    "telecom.show(5)"
   ]
  },
  {
   "cell_type": "code",
   "execution_count": 5,
   "metadata": {},
   "outputs": [],
   "source": [
    "# 1. Cleaning data:\n",
    "## a. Drop duplicate:"
   ]
  },
  {
   "cell_type": "code",
   "execution_count": 6,
   "metadata": {},
   "outputs": [
    {
     "name": "stdout",
     "output_type": "stream",
     "text": [
      "row count: 2407384\n",
      "row count distinct: 2407384\n"
     ]
    }
   ],
   "source": [
    "# number of duplicate row (every row is distinct)\n",
    "print('row count:', telecom.count())\n",
    "print('row count distinct:', telecom.distinct().count())"
   ]
  },
  {
   "cell_type": "code",
   "execution_count": 7,
   "metadata": {},
   "outputs": [],
   "source": [
    "# drop duplicate\n",
    "telecom = telecom.dropDuplicates()"
   ]
  },
  {
   "cell_type": "code",
   "execution_count": 8,
   "metadata": {},
   "outputs": [
    {
     "data": {
      "text/plain": [
       "10000"
      ]
     },
     "execution_count": 8,
     "metadata": {},
     "output_type": "execute_result"
    }
   ],
   "source": [
    "# get number of unique id\n",
    "id = telecom.select('CellID').distinct().count()\n",
    "id"
   ]
  },
  {
   "cell_type": "code",
   "execution_count": 9,
   "metadata": {},
   "outputs": [],
   "source": [
    "# cast numeric value to numeric type\n",
    "numeric_cols = [\"CellID\",\"countrycode\", \"smsin\",\"smsout\",\"callin\",\"callout\",\"internet\"]\n",
    "for c in numeric_cols:\n",
    "    telecom = telecom.withColumn(c, telecom[c].cast('double'))"
   ]
  },
  {
   "cell_type": "code",
   "execution_count": 10,
   "metadata": {},
   "outputs": [
    {
     "name": "stdout",
     "output_type": "stream",
     "text": [
      "root\n",
      " |-- datetime: string (nullable = true)\n",
      " |-- CellID: double (nullable = true)\n",
      " |-- countrycode: double (nullable = true)\n",
      " |-- smsin: double (nullable = true)\n",
      " |-- smsout: double (nullable = true)\n",
      " |-- callin: double (nullable = true)\n",
      " |-- callout: double (nullable = true)\n",
      " |-- internet: double (nullable = true)\n",
      "\n"
     ]
    }
   ],
   "source": [
    "# shema\n",
    "telecom.printSchema()"
   ]
  },
  {
   "cell_type": "code",
   "execution_count": 11,
   "metadata": {},
   "outputs": [],
   "source": [
    "# 2. Missing observation:"
   ]
  },
  {
   "cell_type": "code",
   "execution_count": 12,
   "metadata": {},
   "outputs": [
    {
     "name": "stdout",
     "output_type": "stream",
     "text": [
      "+----------------+--------------+-------------------+------------------+-----------------+------------------+------------------+------------------+\n",
      "|datetime_missing|CellID_missing|countrycode_missing|     smsin_missing|   smsout_missing|    callin_missing|   callout_missing|  internet_missing|\n",
      "+----------------+--------------+-------------------+------------------+-----------------+------------------+------------------+------------------+\n",
      "|             0.0|           0.0|                0.0|0.6200589519578098|0.775083659274964|0.7176433007779399|0.5887851709573546|0.5397020167949941|\n",
      "+----------------+--------------+-------------------+------------------+-----------------+------------------+------------------+------------------+\n",
      "\n"
     ]
    }
   ],
   "source": [
    "# explore ratio of missing value in each column\n",
    "missing_ratio = telecom.agg(*[(1-fn.count(c)/fn.count('*')).alias(c+\"_missing\") for c in telecom.columns])\n",
    "missing_ratio.show()"
   ]
  },
  {
   "cell_type": "code",
   "execution_count": 13,
   "metadata": {},
   "outputs": [],
   "source": [
    "# count number of call-in, call-out, sms-in, sms-out, internet using times \n",
    "cols = [\"smsin\",\"smsout\",\"callin\",\"callout\",\"internet\"]\n",
    "cellid_group = telecom.groupBy('CellID')\n",
    "\n",
    "# telecom data create new feature corresponding to each user\n",
    "telecom_data = cellid_group.agg(\n",
    "    *[fn.count(c).alias('n_'+c) for c in cols]\n",
    "    + [fn.avg(c).alias('avg_'+c) for c in cols]\n",
    ")"
   ]
  },
  {
   "cell_type": "code",
   "execution_count": 14,
   "metadata": {},
   "outputs": [
    {
     "name": "stdout",
     "output_type": "stream",
     "text": [
      "+------+-------+--------+--------+---------+----------+------------------+-------------------+------------------+------------------+------------------+\n",
      "|CellID|n_smsin|n_smsout|n_callin|n_callout|n_internet|         avg_smsin|         avg_smsout|        avg_callin|       avg_callout|      avg_internet|\n",
      "+------+-------+--------+--------+---------+----------+------------------+-------------------+------------------+------------------+------------------+\n",
      "|3597.0|     98|      59|      83|      144|       109| 4.035041836734691| 3.2667050847457624| 3.444984337349398|1.7416124999999993| 37.95543486238531|\n",
      "|2815.0|    110|      67|      79|      102|       148|2.2596536363636366|  2.042950746268657| 2.054721518987342|1.7507500000000005| 22.31372905405405|\n",
      "|5858.0|    224|     146|     182|      207|       197| 31.90848482142857| 22.879879452054787| 25.80458626373626| 21.67320289855073| 530.3432979695433|\n",
      "| 496.0|    126|      59|      80|       99|       162|0.8149182539682539|  0.617108474576271|1.0400525000000003|0.9451464646464645| 9.845057407407403|\n",
      "|6433.0|     84|      45|      68|      120|        87| 9.574484523809526|  8.411637777777777| 8.513170588235292| 5.931425833333331| 54.51753908045976|\n",
      "|6067.0|    331|     207|     255|      306|       271| 25.16186737160121| 23.050172946859902| 20.01709019607844| 19.67022516339869| 399.2833549815498|\n",
      "| 299.0|    112|      53|      70|       83|       145|1.1912151785714282| 0.9390849056603774|1.6772314285714287|1.5935518072289154|19.653714482758634|\n",
      "| 692.0|     61|      30|      39|       36|        80|  0.51902131147541|0.31010333333333334|0.5611923076923078|0.6388944444444444| 5.945324999999998|\n",
      "|2734.0|     74|      50|      68|       78|        95| 7.989232432432436|           6.750576| 5.442130882352941| 4.765905128205128| 108.7434663157894|\n",
      "|2862.0|     95|      50|      56|       78|        55|3.3746884210526313| 3.5627339999999985|3.9317964285714284|2.8332769230769217|  76.1385909090909|\n",
      "|4066.0|    105|      53|      83|      141|       125| 9.109342857142863| 11.933852830188684| 7.638878313253016| 7.475100000000003|171.02364720000003|\n",
      "| 934.0|     96|      58|      72|       98|       125|0.8933822916666663| 1.0039241379310346|0.8903333333333333|0.7323663265306123|         18.885432|\n",
      "|8649.0|     98|      53|      58|      107|       138| 3.989221428571428|  2.789341509433963| 5.553468965517237| 3.466033644859811|34.997544927536225|\n",
      "|6653.0|    122|      66|      90|      149|        96|15.511034426229504| 16.151786363636365|13.605461111111115| 9.402573154362415| 266.9674677083334|\n",
      "|7782.0|     81|      46|      56|       97|        75|11.257385185185184|  9.334143478260872|12.547808928571428| 7.416142268041236|128.53474533333335|\n",
      "| 305.0|     71|      44|      52|       66|        83|1.5022507042253517|  1.233409090909091|1.3927038461538457| 1.122810606060606|16.835689156626508|\n",
      "|8779.0|     50|      25|      29|       50|        42| 4.197615999999999|  5.319004000000001| 5.239186206896551|3.3338940000000004| 69.48860952380946|\n",
      "|7487.0|     65|      42|      45|       63|        44| 8.619701538461536|  7.555028571428569| 8.889973333333332| 6.277068253968253|233.81249318181818|\n",
      "|7171.0|    118|      68|     103|      187|       111|  9.80990508474576|  8.340167647058824| 8.357491262135923| 4.921166844919786|114.23030000000001|\n",
      "|9753.0|     89|      54|      58|      104|       181| 5.743847191011234|  4.889042592592594|  5.98208275862069|3.7482730769230748| 55.36467569060777|\n",
      "+------+-------+--------+--------+---------+----------+------------------+-------------------+------------------+------------------+------------------+\n",
      "only showing top 20 rows\n",
      "\n"
     ]
    }
   ],
   "source": [
    "telecom_data.show()"
   ]
  },
  {
   "cell_type": "code",
   "execution_count": 15,
   "metadata": {},
   "outputs": [],
   "source": [
    "cols = telecom_data.columns\n",
    "cols.remove('CellID')"
   ]
  },
  {
   "cell_type": "code",
   "execution_count": 16,
   "metadata": {},
   "outputs": [],
   "source": [
    "# assemble feature vector\n",
    "vec_assemble = VectorAssembler(inputCols=cols, outputCol='features')\n",
    "\n",
    "# pipe_data = vec_assmble.transform(telecom_data)"
   ]
  },
  {
   "cell_type": "code",
   "execution_count": 17,
   "metadata": {},
   "outputs": [],
   "source": [
    "# drop rows containing not a number value from telecom_data\n",
    "telecom_data_dropna = telecom_data.dropna()"
   ]
  },
  {
   "cell_type": "code",
   "execution_count": 18,
   "metadata": {},
   "outputs": [],
   "source": [
    "# pipeline\n",
    "pipeline = Pipeline(stages=[vec_assemble])\n",
    "\n",
    "pipe_model = pipeline.fit(telecom_data_dropna)\n",
    "\n",
    "pipe_data = pipe_model.transform(telecom_data_dropna)"
   ]
  },
  {
   "cell_type": "code",
   "execution_count": 20,
   "metadata": {},
   "outputs": [],
   "source": [
    "# define Kmean clustering model, choosing the best K\n",
    "cost = []\n",
    "ks = []\n",
    "models = []\n",
    "\n",
    "def k_and_cost(cost, ks, models, _min, _max, _step):\n",
    "    for k in range(_min, _max, _step):\n",
    "        kmeans = KMeans().setK(k).setSeed(1)\n",
    "        model = kmeans.fit(pipe_data.sample(False, 0.01,seed=42))\n",
    "        cost.append(model.computeCost(pipe_data))\n",
    "        ks.append(k)\n",
    "        models.append(model)"
   ]
  },
  {
   "cell_type": "code",
   "execution_count": 47,
   "metadata": {},
   "outputs": [],
   "source": [
    "k_and_cost(cost, ks,models, 10,13,1)"
   ]
  },
  {
   "cell_type": "code",
   "execution_count": 49,
   "metadata": {},
   "outputs": [
    {
     "data": {
      "image/png": "[encoded data removed]",
      "text/plain": [
       "<matplotlib.figure.Figure at 0x7f87496e7f98>"
      ]
     },
     "metadata": {},
     "output_type": "display_data"
    }
   ],
   "source": [
    "# plot cost corresponding to each value of k\n",
    "plt.plot(ks, cost)\n",
    "plt.show()"
   ]
  },
  {
   "cell_type": "code",
   "execution_count": 21,
   "metadata": {},
   "outputs": [],
   "source": [
    "# choose the best shit\n",
    "# idx = np.argmin(np.array(cost))\n",
    "# best_model = models[idx]\n",
    "\n",
    "kmeans = KMeans().setK(10).setSeed(1)\n",
    "best_model = kmeans.fit(pipe_data)"
   ]
  },
  {
   "cell_type": "code",
   "execution_count": 22,
   "metadata": {},
   "outputs": [],
   "source": [
    "pred = best_model.transform(pipe_data)"
   ]
  },
  {
   "cell_type": "code",
   "execution_count": 23,
   "metadata": {},
   "outputs": [
    {
     "name": "stdout",
     "output_type": "stream",
     "text": [
      "+------+-------+--------+--------+---------+----------+------------------+-------------------+------------------+------------------+------------------+--------------------+----------+\n",
      "|CellID|n_smsin|n_smsout|n_callin|n_callout|n_internet|         avg_smsin|         avg_smsout|        avg_callin|       avg_callout|      avg_internet|            features|prediction|\n",
      "+------+-------+--------+--------+---------+----------+------------------+-------------------+------------------+------------------+------------------+--------------------+----------+\n",
      "|3597.0|     98|      59|      83|      144|       109| 4.035041836734691| 3.2667050847457624| 3.444984337349398|1.7416124999999993| 37.95543486238531|[98.0,59.0,83.0,1...|         8|\n",
      "|2815.0|    110|      67|      79|      102|       148|2.2596536363636366|  2.042950746268657| 2.054721518987342|1.7507500000000005| 22.31372905405405|[110.0,67.0,79.0,...|         8|\n",
      "|5858.0|    224|     146|     182|      207|       197| 31.90848482142857| 22.879879452054787| 25.80458626373626| 21.67320289855073| 530.3432979695433|[224.0,146.0,182....|         7|\n",
      "| 496.0|    126|      59|      80|       99|       162|0.8149182539682539|  0.617108474576271|1.0400525000000003|0.9451464646464645| 9.845057407407403|[126.0,59.0,80.0,...|         8|\n",
      "|6433.0|     84|      45|      68|      120|        87| 9.574484523809526|  8.411637777777777| 8.513170588235292| 5.931425833333331| 54.51753908045976|[84.0,45.0,68.0,1...|         8|\n",
      "|6067.0|    331|     207|     255|      306|       271| 25.16186737160121| 23.050172946859902| 20.01709019607844| 19.67022516339869| 399.2833549815498|[331.0,207.0,255....|         0|\n",
      "| 299.0|    112|      53|      70|       83|       145|1.1912151785714282| 0.9390849056603774|1.6772314285714287|1.5935518072289154|19.653714482758634|[112.0,53.0,70.0,...|         8|\n",
      "| 692.0|     61|      30|      39|       36|        80|  0.51902131147541|0.31010333333333334|0.5611923076923078|0.6388944444444444| 5.945324999999998|[61.0,30.0,39.0,3...|         1|\n",
      "|2734.0|     74|      50|      68|       78|        95| 7.989232432432436|           6.750576| 5.442130882352941| 4.765905128205128| 108.7434663157894|[74.0,50.0,68.0,7...|         4|\n",
      "|2862.0|     95|      50|      56|       78|        55|3.3746884210526313| 3.5627339999999985|3.9317964285714284|2.8332769230769217|  76.1385909090909|[95.0,50.0,56.0,7...|         1|\n",
      "|4066.0|    105|      53|      83|      141|       125| 9.109342857142863| 11.933852830188684| 7.638878313253016| 7.475100000000003|171.02364720000003|[105.0,53.0,83.0,...|         9|\n",
      "| 934.0|     96|      58|      72|       98|       125|0.8933822916666663| 1.0039241379310346|0.8903333333333333|0.7323663265306123|         18.885432|[96.0,58.0,72.0,9...|         8|\n",
      "|8649.0|     98|      53|      58|      107|       138| 3.989221428571428|  2.789341509433963| 5.553468965517237| 3.466033644859811|34.997544927536225|[98.0,53.0,58.0,1...|         8|\n",
      "|6653.0|    122|      66|      90|      149|        96|15.511034426229504| 16.151786363636365|13.605461111111115| 9.402573154362415| 266.9674677083334|[122.0,66.0,90.0,...|         2|\n",
      "|7782.0|     81|      46|      56|       97|        75|11.257385185185184|  9.334143478260872|12.547808928571428| 7.416142268041236|128.53474533333335|[81.0,46.0,56.0,9...|         4|\n",
      "| 305.0|     71|      44|      52|       66|        83|1.5022507042253517|  1.233409090909091|1.3927038461538457| 1.122810606060606|16.835689156626508|[71.0,44.0,52.0,6...|         1|\n",
      "|8779.0|     50|      25|      29|       50|        42| 4.197615999999999|  5.319004000000001| 5.239186206896551|3.3338940000000004| 69.48860952380946|[50.0,25.0,29.0,5...|         1|\n",
      "|7487.0|     65|      42|      45|       63|        44| 8.619701538461536|  7.555028571428569| 8.889973333333332| 6.277068253968253|233.81249318181818|[65.0,42.0,45.0,6...|         2|\n",
      "|7171.0|    118|      68|     103|      187|       111|  9.80990508474576|  8.340167647058824| 8.357491262135923| 4.921166844919786|114.23030000000001|[118.0,68.0,103.0...|         9|\n",
      "|9753.0|     89|      54|      58|      104|       181| 5.743847191011234|  4.889042592592594|  5.98208275862069|3.7482730769230748| 55.36467569060777|[89.0,54.0,58.0,1...|         8|\n",
      "+------+-------+--------+--------+---------+----------+------------------+-------------------+------------------+------------------+------------------+--------------------+----------+\n",
      "only showing top 20 rows\n",
      "\n"
     ]
    }
   ],
   "source": [
    "pred.show()"
   ]
  },
  {
   "cell_type": "code",
   "execution_count": 26,
   "metadata": {},
   "outputs": [],
   "source": [
    "group1 = pred.filter(fn.col('prediction')==1)"
   ]
  },
  {
   "cell_type": "code",
   "execution_count": 59,
   "metadata": {},
   "outputs": [],
   "source": [
    "group2 = pred.filter(fn.col('prediction')==2)"
   ]
  },
  {
   "cell_type": "code",
   "execution_count": 58,
   "metadata": {},
   "outputs": [
    {
     "name": "stdout",
     "output_type": "stream",
     "text": [
      "2 3\n"
     ]
    },
    {
     "data": {
      "image/png": "[encoded data removed]",
      "text/plain": [
       "<matplotlib.figure.Figure at 0x7fab159adef0>"
      ]
     },
     "metadata": {},
     "output_type": "display_data"
    }
   ],
   "source": [
    "def visualize(df, col_names):\n",
    "    n_subplot = len(col_names)\n",
    "    n_cols = 3\n",
    "    n_rows = math.ceil(n_subplot*1.0/n_cols)\n",
    "    plt.figure(figsize=(5*n_cols, 5*n_rows))\n",
    "    print(n_rows, n_cols)\n",
    "    for i, col in enumerate(col_names):\n",
    "        sub = plt.subplot(n_rows,n_cols,i+1)\n",
    "        hist = df.select(col).rdd.flatMap(lambda row: row).histogram(20)\n",
    "        sub.bar(hist[0][:-1], hist[1])\n",
    "        plt.title('Histogram of '+col)\n",
    "    "
   ]
  },
  {
   "cell_type": "code",
   "execution_count": null,
   "metadata": {},
   "outputs": [],
   "source": [
    "visualize(group1,['n_smsin', 'n_smsout', 'n_callin', 'n_callout', 'n_internet'])"
   ]
  },
  {
   "cell_type": "code",
   "execution_count": 60,
   "metadata": {},
   "outputs": [
    {
     "name": "stdout",
     "output_type": "stream",
     "text": [
      "2 3\n"
     ]
    },
    {
     "data": {
      "image/png": "[encoded data removed]",
      "text/plain": [
       "<matplotlib.figure.Figure at 0x7fab15a43dd8>"
      ]
     },
     "metadata": {},
     "output_type": "display_data"
    }
   ],
   "source": [
    "visualize(group2,['n_smsin', 'n_smsout', 'n_callin', 'n_callout', 'n_internet'])"
   ]
  },
  {
   "cell_type": "code",
   "execution_count": 61,
   "metadata": {},
   "outputs": [
    {
     "name": "stdout",
     "output_type": "stream",
     "text": [
      "2 3\n"
     ]
    },
    {
     "data": {
      "image/png": "[encoded data removed]",
      "text/plain": [
       "<matplotlib.figure.Figure at 0x7fab15cde7f0>"
      ]
     },
     "metadata": {},
     "output_type": "display_data"
    }
   ],
   "source": [
    "group3 = pred.filter(fn.col('prediction')==3)\n",
    "visualize(group3,['n_smsin', 'n_smsout', 'n_callin', 'n_callout', 'n_internet'])"
   ]
  },
  {
   "cell_type": "code",
   "execution_count": null,
   "metadata": {},
   "outputs": [],
   "source": []
  }
 ],
 "metadata": {
  "kernelspec": {
   "display_name": "Python 3",
   "language": "python",
   "name": "python3"
  },
  "language_info": {
   "codemirror_mode": {
    "name": "ipython",
    "version": 3
   },
   "file_extension": ".py",
   "mimetype": "text/x-python",
   "name": "python",
   "nbconvert_exporter": "python",
   "pygments_lexer": "ipython3",
   "version": "3.6.3"
  }
 },
 "nbformat": 4,
 "nbformat_minor": 2
}
